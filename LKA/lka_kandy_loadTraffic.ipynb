{
 "cells": [
  {
   "cell_type": "code",
   "execution_count": 1,
   "metadata": {},
   "outputs": [],
   "source": [
    "import os, sys, time, importlib\n",
    "import osmnx\n",
    "\n",
    "import geopandas as gpd\n",
    "import pandas as pd\n",
    "import networkx as nx\n",
    "import numpy as np\n",
    "sys.path.append(r\"C:\\Users\\wb557957\\Desktop\\GOSTnets-traffic\") # this is the path to the new gostnets with load_traffic from Tom.\n",
    "import GOSTnets as gn\n",
    "\n",
    "import osmium, logging\n",
    "import shapely.wkb as wkblib\n",
    "\n",
    "from osgeo import ogr\n",
    "from rtree import index\n",
    "from shapely import speedups\n",
    "from shapely.geometry import LineString, MultiLineString, MultiPoint, Point\n",
    "from geopy.distance import vincenty\n",
    "from boltons.iterutils import pairwise\n",
    "from shapely.wkt import loads,dumps"
   ]
  },
  {
   "cell_type": "code",
   "execution_count": 2,
   "metadata": {},
   "outputs": [],
   "source": [
    "pth = r\"C:\\Users\\wb557957\\Desktop\\LKA\"\n",
    "inPth = r\"C:\\Users\\wb557957\\Desktop\\LKA\\lka_data\"\n",
    "outPth = r\"C:\\Users\\wb557957\\Desktop\\LKA\\lka_outputs\"\n",
    "\n",
    "kandy_osm = r'C:\\Users\\wb557957\\Desktop\\LKA\\lka_data\\kandy_roads.osm.pbf'"
   ]
  },
  {
   "cell_type": "code",
   "execution_count": 3,
   "metadata": {
    "scrolled": false
   },
   "outputs": [
    {
     "name": "stderr",
     "output_type": "stream",
     "text": [
      "WARNING:root:Error adding edge between nodes 35436481 and 2078304672\n",
      "WARNING:root:Error adding edge between nodes 2078304672 and 3810950074\n",
      "WARNING:root:Error adding edge between nodes 3810950074 and 5504401132\n",
      "WARNING:root:Error adding edge between nodes 5504401132 and 3057458327\n",
      "WARNING:root:Error adding edge between nodes 3057458327 and 2266684575\n",
      "WARNING:root:Error adding edge between nodes 2266684575 and 4004621091\n",
      "WARNING:root:Error adding edge between nodes 4004621091 and 3991952783\n",
      "WARNING:root:Error adding edge between nodes 3991952783 and 3780934139\n",
      "WARNING:root:Error adding edge between nodes 3780934139 and 35436482\n",
      "WARNING:root:Error adding edge between nodes 35436482 and 4025881594\n",
      "WARNING:root:Error adding edge between nodes 4025881594 and 1694529759\n",
      "WARNING:root:Error adding edge between nodes 1694529759 and 5509856161\n",
      "WARNING:root:Error adding edge between nodes 5509856161 and 5509856151\n",
      "WARNING:root:Error adding edge between nodes 5509856151 and 5509856156\n",
      "WARNING:root:Error adding edge between nodes 5509856156 and 5509856150\n",
      "WARNING:root:Error adding edge between nodes 5509856150 and 5509856147\n",
      "WARNING:root:Error adding edge between nodes 5509856147 and 4019464960\n",
      "WARNING:root:Error adding edge between nodes 4019464960 and 4025881592\n",
      "WARNING:root:Error adding edge between nodes 4025881592 and 4019464969\n",
      "WARNING:root:Error adding edge between nodes 4019464969 and 5367859397\n",
      "WARNING:root:Error adding edge between nodes 5367859397 and 4049703202\n",
      "WARNING:root:Error adding edge between nodes 4049703202 and 1176053504\n",
      "WARNING:root:Error adding edge between nodes 1176053504 and 5507748463\n",
      "WARNING:root:Error adding edge between nodes 5507748463 and 3780940084\n",
      "WARNING:root:Error adding edge between nodes 3780940084 and 6390466137\n",
      "WARNING:root:Error adding edge between nodes 6390466137 and 4019464978\n",
      "WARNING:root:Error adding edge between nodes 4019464978 and 2558293065\n",
      "WARNING:root:Error adding edge between nodes 2558293065 and 4019464971\n",
      "WARNING:root:Error adding edge between nodes 4019464971 and 3780940083\n",
      "WARNING:root:Error adding edge between nodes 3780940083 and 3780940080\n",
      "WARNING:root:Error adding edge between nodes 3780940080 and 3780940081\n",
      "WARNING:root:Error adding edge between nodes 3780940081 and 2558293064\n",
      "WARNING:root:Error adding edge between nodes 2558293064 and 3780940079\n",
      "WARNING:root:Error adding edge between nodes 3780940079 and 3618873293\n",
      "WARNING:root:Error adding edge between nodes 3618873293 and 2558293063\n",
      "WARNING:root:Error adding edge between nodes 2558293063 and 3780940078\n",
      "WARNING:root:Error adding edge between nodes 3780940078 and 2828494826\n",
      "WARNING:root:Error adding edge between nodes 2828494826 and 35436483\n",
      "WARNING:root:Error adding edge between nodes 35436483 and 3780940077\n",
      "WARNING:root:Error adding edge between nodes 3780940077 and 1837389538\n",
      "WARNING:root:Error adding edge between nodes 1837389538 and 4019465032\n",
      "WARNING:root:Error adding edge between nodes 4019465032 and 2825909046\n",
      "WARNING:root:Error adding edge between nodes 2825909046 and 1724997115\n",
      "WARNING:root:Error adding edge between nodes 1724997115 and 3618872688\n",
      "WARNING:root:Error adding edge between nodes 3618872688 and 5237072020\n",
      "WARNING:root:Error adding edge between nodes 5237072020 and 2828513370\n",
      "WARNING:root:Error adding edge between nodes 2828513370 and 2828513371\n",
      "WARNING:root:Error adding edge between nodes 2828513371 and 2558293062\n",
      "WARNING:root:Error adding edge between nodes 2558293062 and 3780934124\n",
      "WARNING:root:Error adding edge between nodes 3780934124 and 4089709435\n",
      "WARNING:root:Error adding edge between nodes 4089709435 and 4089709433\n",
      "WARNING:root:Error adding edge between nodes 4089709433 and 4049703196\n",
      "WARNING:root:Error adding edge between nodes 4049703196 and 4036057936\n",
      "WARNING:root:Error adding edge between nodes 4036057936 and 2828182456\n",
      "WARNING:root:Error adding edge between nodes 2828182456 and 6246267529\n",
      "WARNING:root:Error adding edge between nodes 6246267529 and 6246267523\n",
      "WARNING:root:Error adding edge between nodes 6246267523 and 5588883562\n",
      "WARNING:root:Error adding edge between nodes 5588883562 and 3780934123\n",
      "WARNING:root:Error adding edge between nodes 3780934123 and 5588883565\n",
      "WARNING:root:Error adding edge between nodes 5588883565 and 3074337918\n",
      "WARNING:root:Error adding edge between nodes 3074337918 and 3780934122\n",
      "WARNING:root:Error adding edge between nodes 3780934122 and 4089673109\n",
      "WARNING:root:Error adding edge between nodes 4089673109 and 4089673107\n",
      "WARNING:root:Error adding edge between nodes 4089673107 and 3074337834\n",
      "WARNING:root:Error adding edge between nodes 3074337834 and 4432441354\n",
      "WARNING:root:Error adding edge between nodes 4432441354 and 4049703192\n",
      "WARNING:root:Error adding edge between nodes 4049703192 and 4036074897\n",
      "WARNING:root:Error adding edge between nodes 4036074897 and 6390426943\n",
      "WARNING:root:Error adding edge between nodes 6390426943 and 4036074921\n",
      "WARNING:root:Error adding edge between nodes 4036074921 and 6390426946\n",
      "WARNING:root:Error adding edge between nodes 6390426946 and 264552321\n",
      "WARNING:root:Error adding edge between nodes 264552321 and 4036074905\n",
      "WARNING:root:Error adding edge between nodes 4036074905 and 4036074925\n",
      "WARNING:root:Error adding edge between nodes 4036074925 and 4089638399\n",
      "WARNING:root:Error adding edge between nodes 4089638399 and 3238090666\n"
     ]
    },
    {
     "name": "stdout",
     "output_type": "stream",
     "text": [
      "finished with Osmium data extraction\n",
      "35900\n",
      "0\n"
     ]
    },
    {
     "name": "stderr",
     "output_type": "stream",
     "text": [
      "WARNING:root:Error adding edge between nodes 3238090666 and 4049703193\n",
      "WARNING:root:Error adding edge between nodes 4049703193 and 3074337833\n",
      "WARNING:root:Error adding edge between nodes 3074337833 and 3074335298\n",
      "WARNING:root:Error adding edge between nodes 3074335298 and 3618872678\n",
      "WARNING:root:Error adding edge between nodes 3618872678 and 4089638389\n",
      "WARNING:root:Error adding edge between nodes 4089638389 and 3618872677\n",
      "WARNING:root:Error adding edge between nodes 3618872677 and 2368400511\n",
      "WARNING:root:Error adding edge between nodes 2368400511 and 3618872671\n",
      "WARNING:root:Error adding edge between nodes 3618872671 and 257926206\n",
      "WARNING:root:Error adding edge between nodes 257926206 and 6390447198\n",
      "WARNING:root:Error adding edge between nodes 6390447198 and 6390419057\n",
      "WARNING:root:Error adding edge between nodes 6390419057 and 3618872668\n",
      "WARNING:root:Error adding edge between nodes 3618872668 and 3239779957\n",
      "WARNING:root:Error adding edge between nodes 3239779957 and 5166555236\n",
      "WARNING:root:Error adding edge between nodes 5166555236 and 3780934121\n",
      "WARNING:root:Error adding edge between nodes 3780934121 and 4962339041\n",
      "WARNING:root:Error adding edge between nodes 4962339041 and 35436485\n",
      "WARNING:root:Error adding edge between nodes 35436485 and 4049703199\n",
      "WARNING:root:Error adding edge between nodes 4049703199 and 4089554835\n"
     ]
    },
    {
     "name": "stdout",
     "output_type": "stream",
     "text": [
      "finished building node edge lists\n",
      "all_edges length\n",
      "1114426\n",
      "finished building node and edge GeoDataFrames\n",
      "all_edges_gdf length\n",
      "1114426\n"
     ]
    },
    {
     "data": {
      "text/plain": [
       "<GOSTnets.load_traffic.OSM_to_network at 0x20f1a3c5b70>"
      ]
     },
     "execution_count": 3,
     "metadata": {},
     "output_type": "execute_result"
    }
   ],
   "source": [
    "import GOSTnets.load_traffic as loadtrf\n",
    "\n",
    "kandy = loadtrf.OSM_to_network(kandy_osm)\n",
    "\n",
    "kandy\n",
    "\n",
    "# error message: error adding edge between nodes between 35436481 and 4089554835\n",
    "# between kandy and primrose. what happened here"
   ]
  },
  {
   "cell_type": "code",
   "execution_count": 5,
   "metadata": {},
   "outputs": [],
   "source": [
    "# load csv of three combined mapbox edges\n",
    "kandy_mb = r'C:\\Users\\wb557957\\Desktop\\LKA\\lka_MB_osmAttributes.csv'"
   ]
  },
  {
   "cell_type": "code",
   "execution_count": 6,
   "metadata": {
    "scrolled": true
   },
   "outputs": [
    {
     "data": {
      "text/plain": [
       "residential       376288\n",
       "unclassified      220690\n",
       "tertiary          143409\n",
       "track             140963\n",
       "secondary          81347\n",
       "service            46869\n",
       "trunk              38055\n",
       "primary            21128\n",
       "path               18391\n",
       "living_street      17733\n",
       "footway             5375\n",
       "road                2645\n",
       "construction         697\n",
       "steps                371\n",
       "trunk_link           166\n",
       "tertiary_link        102\n",
       "secondary_link        44\n",
       "primary_link          38\n",
       "pedestrian            36\n",
       "raceway               30\n",
       "motorway_link         19\n",
       "bridleway             13\n",
       "cycleway              11\n",
       "services               6\n",
       "Name: infra_type, dtype: int64"
      ]
     },
     "execution_count": 6,
     "metadata": {},
     "output_type": "execute_result"
    }
   ],
   "source": [
    "kandy.roads_raw.infra_type.value_counts()"
   ]
  },
  {
   "cell_type": "code",
   "execution_count": 7,
   "metadata": {
    "scrolled": true
   },
   "outputs": [
    {
     "data": {
      "text/html": [
       "<div>\n",
       "<style scoped>\n",
       "    .dataframe tbody tr th:only-of-type {\n",
       "        vertical-align: middle;\n",
       "    }\n",
       "\n",
       "    .dataframe tbody tr th {\n",
       "        vertical-align: top;\n",
       "    }\n",
       "\n",
       "    .dataframe thead th {\n",
       "        text-align: right;\n",
       "    }\n",
       "</style>\n",
       "<table border=\"1\" class=\"dataframe\">\n",
       "  <thead>\n",
       "    <tr style=\"text-align: right;\">\n",
       "      <th></th>\n",
       "      <th>osm_id</th>\n",
       "      <th>geometry</th>\n",
       "    </tr>\n",
       "  </thead>\n",
       "  <tbody>\n",
       "    <tr>\n",
       "      <th>0</th>\n",
       "      <td>35436481</td>\n",
       "      <td>POINT (80.63332 7.29317)</td>\n",
       "    </tr>\n",
       "    <tr>\n",
       "      <th>1</th>\n",
       "      <td>2078304672</td>\n",
       "      <td>POINT (80.63317 7.29309)</td>\n",
       "    </tr>\n",
       "    <tr>\n",
       "      <th>2</th>\n",
       "      <td>3810950074</td>\n",
       "      <td>POINT (80.63309 7.29306)</td>\n",
       "    </tr>\n",
       "    <tr>\n",
       "      <th>3</th>\n",
       "      <td>5504401132</td>\n",
       "      <td>POINT (80.63306 7.29305)</td>\n",
       "    </tr>\n",
       "    <tr>\n",
       "      <th>4</th>\n",
       "      <td>3057458327</td>\n",
       "      <td>POINT (80.63287 7.29295)</td>\n",
       "    </tr>\n",
       "    <tr>\n",
       "      <th>...</th>\n",
       "      <td>...</td>\n",
       "      <td>...</td>\n",
       "    </tr>\n",
       "    <tr>\n",
       "      <th>1150414</th>\n",
       "      <td>7438421225</td>\n",
       "      <td>POINT (80.51874 7.04207)</td>\n",
       "    </tr>\n",
       "    <tr>\n",
       "      <th>1150415</th>\n",
       "      <td>7438421292</td>\n",
       "      <td>POINT (80.51871 7.04210)</td>\n",
       "    </tr>\n",
       "    <tr>\n",
       "      <th>1150416</th>\n",
       "      <td>7438421291</td>\n",
       "      <td>POINT (80.51868 7.04211)</td>\n",
       "    </tr>\n",
       "    <tr>\n",
       "      <th>1150417</th>\n",
       "      <td>7438421290</td>\n",
       "      <td>POINT (80.51866 7.04211)</td>\n",
       "    </tr>\n",
       "    <tr>\n",
       "      <th>1150418</th>\n",
       "      <td>7438421289</td>\n",
       "      <td>POINT (80.51860 7.04210)</td>\n",
       "    </tr>\n",
       "  </tbody>\n",
       "</table>\n",
       "<p>1104457 rows × 2 columns</p>\n",
       "</div>"
      ],
      "text/plain": [
       "             osm_id                  geometry\n",
       "0          35436481  POINT (80.63332 7.29317)\n",
       "1        2078304672  POINT (80.63317 7.29309)\n",
       "2        3810950074  POINT (80.63309 7.29306)\n",
       "3        5504401132  POINT (80.63306 7.29305)\n",
       "4        3057458327  POINT (80.63287 7.29295)\n",
       "...             ...                       ...\n",
       "1150414  7438421225  POINT (80.51874 7.04207)\n",
       "1150415  7438421292  POINT (80.51871 7.04210)\n",
       "1150416  7438421291  POINT (80.51868 7.04211)\n",
       "1150417  7438421290  POINT (80.51866 7.04211)\n",
       "1150418  7438421289  POINT (80.51860 7.04210)\n",
       "\n",
       "[1104457 rows x 2 columns]"
      ]
     },
     "execution_count": 7,
     "metadata": {},
     "output_type": "execute_result"
    }
   ],
   "source": [
    "kandy.nodes_raw"
   ]
  },
  {
   "cell_type": "code",
   "execution_count": 8,
   "metadata": {},
   "outputs": [],
   "source": [
    "accepted_road_types = ['residential', \n",
    "                       'unclassified', \n",
    "                       'track',\n",
    "                       'service',\n",
    "                       'tertiary',\n",
    "                       'road',\n",
    "                       'secondary',\n",
    "                       'primary',\n",
    "                       'trunk',\n",
    "                       'primary_link',\n",
    "                       'trunk_link',\n",
    "                       'tertiary_link',\n",
    "                       'secondary_link']"
   ]
  },
  {
   "cell_type": "code",
   "execution_count": 9,
   "metadata": {},
   "outputs": [],
   "source": [
    "kandy.filterRoads(acceptedRoads = accepted_road_types)"
   ]
  },
  {
   "cell_type": "code",
   "execution_count": 10,
   "metadata": {
    "scrolled": true
   },
   "outputs": [
    {
     "data": {
      "text/plain": [
       "residential       376288\n",
       "unclassified      220690\n",
       "tertiary          143409\n",
       "track             140963\n",
       "secondary          81347\n",
       "service            46869\n",
       "trunk              38149\n",
       "primary            21128\n",
       "road                2645\n",
       "trunk_link           166\n",
       "tertiary_link        102\n",
       "secondary_link        44\n",
       "primary_link          38\n",
       "Name: infra_type, dtype: int64"
      ]
     },
     "execution_count": 10,
     "metadata": {},
     "output_type": "execute_result"
    }
   ],
   "source": [
    "kandy.roads_raw.infra_type.value_counts()"
   ]
  },
  {
   "cell_type": "code",
   "execution_count": 12,
   "metadata": {},
   "outputs": [
    {
     "data": {
      "text/html": [
       "<div>\n",
       "<style scoped>\n",
       "    .dataframe tbody tr th:only-of-type {\n",
       "        vertical-align: middle;\n",
       "    }\n",
       "\n",
       "    .dataframe tbody tr th {\n",
       "        vertical-align: top;\n",
       "    }\n",
       "\n",
       "    .dataframe thead th {\n",
       "        text-align: right;\n",
       "    }\n",
       "</style>\n",
       "<table border=\"1\" class=\"dataframe\">\n",
       "  <thead>\n",
       "    <tr style=\"text-align: right;\">\n",
       "      <th></th>\n",
       "      <th>stnode</th>\n",
       "      <th>endnode</th>\n",
       "      <th>osm_id</th>\n",
       "      <th>infra_type</th>\n",
       "      <th>geometry</th>\n",
       "    </tr>\n",
       "  </thead>\n",
       "  <tbody>\n",
       "    <tr>\n",
       "      <th>0</th>\n",
       "      <td>35436481</td>\n",
       "      <td>2078304672</td>\n",
       "      <td>5131121</td>\n",
       "      <td>trunk</td>\n",
       "      <td>LINESTRING (80.63332 7.29317, 80.63317 7.29309)</td>\n",
       "    </tr>\n",
       "    <tr>\n",
       "      <th>1</th>\n",
       "      <td>2078304672</td>\n",
       "      <td>3810950074</td>\n",
       "      <td>5131121</td>\n",
       "      <td>trunk</td>\n",
       "      <td>LINESTRING (80.63317 7.29309, 80.63309 7.29306)</td>\n",
       "    </tr>\n",
       "    <tr>\n",
       "      <th>2</th>\n",
       "      <td>3810950074</td>\n",
       "      <td>5504401132</td>\n",
       "      <td>5131121</td>\n",
       "      <td>trunk</td>\n",
       "      <td>LINESTRING (80.63309 7.29306, 80.63306 7.29305)</td>\n",
       "    </tr>\n",
       "    <tr>\n",
       "      <th>3</th>\n",
       "      <td>5504401132</td>\n",
       "      <td>3057458327</td>\n",
       "      <td>5131121</td>\n",
       "      <td>trunk</td>\n",
       "      <td>LINESTRING (80.63306 7.29305, 80.63287 7.29295)</td>\n",
       "    </tr>\n",
       "    <tr>\n",
       "      <th>4</th>\n",
       "      <td>3057458327</td>\n",
       "      <td>2266684575</td>\n",
       "      <td>5131121</td>\n",
       "      <td>trunk</td>\n",
       "      <td>LINESTRING (80.63287 7.29295, 80.63260 7.29281)</td>\n",
       "    </tr>\n",
       "    <tr>\n",
       "      <th>...</th>\n",
       "      <td>...</td>\n",
       "      <td>...</td>\n",
       "      <td>...</td>\n",
       "      <td>...</td>\n",
       "      <td>...</td>\n",
       "    </tr>\n",
       "    <tr>\n",
       "      <th>1114515</th>\n",
       "      <td>7438421225</td>\n",
       "      <td>7438421292</td>\n",
       "      <td>795283912</td>\n",
       "      <td>residential</td>\n",
       "      <td>LINESTRING (80.51874 7.04207, 80.51871 7.04210)</td>\n",
       "    </tr>\n",
       "    <tr>\n",
       "      <th>1114516</th>\n",
       "      <td>7438421292</td>\n",
       "      <td>7438421291</td>\n",
       "      <td>795283912</td>\n",
       "      <td>residential</td>\n",
       "      <td>LINESTRING (80.51871 7.04210, 80.51868 7.04211)</td>\n",
       "    </tr>\n",
       "    <tr>\n",
       "      <th>1114517</th>\n",
       "      <td>7438421291</td>\n",
       "      <td>7438421290</td>\n",
       "      <td>795283912</td>\n",
       "      <td>residential</td>\n",
       "      <td>LINESTRING (80.51868 7.04211, 80.51866 7.04211)</td>\n",
       "    </tr>\n",
       "    <tr>\n",
       "      <th>1114518</th>\n",
       "      <td>7438421290</td>\n",
       "      <td>7438421289</td>\n",
       "      <td>795283912</td>\n",
       "      <td>residential</td>\n",
       "      <td>LINESTRING (80.51866 7.04211, 80.51860 7.04210)</td>\n",
       "    </tr>\n",
       "    <tr>\n",
       "      <th>1114519</th>\n",
       "      <td>7438421289</td>\n",
       "      <td>3769925282</td>\n",
       "      <td>795283912</td>\n",
       "      <td>residential</td>\n",
       "      <td>LINESTRING (80.51860 7.04210, 80.51823 7.04198)</td>\n",
       "    </tr>\n",
       "  </tbody>\n",
       "</table>\n",
       "<p>1071838 rows × 5 columns</p>\n",
       "</div>"
      ],
      "text/plain": [
       "             stnode     endnode     osm_id   infra_type  \\\n",
       "0          35436481  2078304672    5131121        trunk   \n",
       "1        2078304672  3810950074    5131121        trunk   \n",
       "2        3810950074  5504401132    5131121        trunk   \n",
       "3        5504401132  3057458327    5131121        trunk   \n",
       "4        3057458327  2266684575    5131121        trunk   \n",
       "...             ...         ...        ...          ...   \n",
       "1114515  7438421225  7438421292  795283912  residential   \n",
       "1114516  7438421292  7438421291  795283912  residential   \n",
       "1114517  7438421291  7438421290  795283912  residential   \n",
       "1114518  7438421290  7438421289  795283912  residential   \n",
       "1114519  7438421289  3769925282  795283912  residential   \n",
       "\n",
       "                                                geometry  \n",
       "0        LINESTRING (80.63332 7.29317, 80.63317 7.29309)  \n",
       "1        LINESTRING (80.63317 7.29309, 80.63309 7.29306)  \n",
       "2        LINESTRING (80.63309 7.29306, 80.63306 7.29305)  \n",
       "3        LINESTRING (80.63306 7.29305, 80.63287 7.29295)  \n",
       "4        LINESTRING (80.63287 7.29295, 80.63260 7.29281)  \n",
       "...                                                  ...  \n",
       "1114515  LINESTRING (80.51874 7.04207, 80.51871 7.04210)  \n",
       "1114516  LINESTRING (80.51871 7.04210, 80.51868 7.04211)  \n",
       "1114517  LINESTRING (80.51868 7.04211, 80.51866 7.04211)  \n",
       "1114518  LINESTRING (80.51866 7.04211, 80.51860 7.04210)  \n",
       "1114519  LINESTRING (80.51860 7.04210, 80.51823 7.04198)  \n",
       "\n",
       "[1071838 rows x 5 columns]"
      ]
     },
     "execution_count": 12,
     "metadata": {},
     "output_type": "execute_result"
    }
   ],
   "source": [
    "kandy.roads_raw"
   ]
  },
  {
   "cell_type": "code",
   "execution_count": 13,
   "metadata": {},
   "outputs": [],
   "source": [
    "kandy_mb_edges = r'C:\\Users\\wb557957\\Desktop\\LKA\\lka_MB_osmAttributes.csv'"
   ]
  },
  {
   "cell_type": "code",
   "execution_count": 18,
   "metadata": {},
   "outputs": [
    {
     "name": "stdout",
     "output_type": "stream",
     "text": [
      "1\n",
      "C:\\Users\\wb557957\\Desktop\\LKA\\lka_data\\1233302-Asia-Colombo.csv\n",
      "finished reading C:\\Users\\wb557957\\Desktop\\LKA\\lka_data\\1233302-Asia-Colombo.csv into dataframe\n",
      "calculating min, max, and mean values.\n",
      "finished calculating min, max, and mean values. Printing traffic_simplified head\n",
      "    FROM_NODE     TO_NODE  min_speed  max_speed  mean_speed\n",
      "0   102738212  3279663552       34.0       57.0   45.918651\n",
      "1  1093698450  1093697790       34.0       34.0   34.000000\n",
      "2  1093698671  1093697934       34.0       34.0   34.000000\n",
      "3  1093798472  1093799200       39.0       39.0   39.000000\n",
      "4  1093798791  1093799519       31.0       34.0   33.910714\n",
      "adding the traffic speeds to the edges\n"
     ]
    },
    {
     "ename": "KeyError",
     "evalue": "('mean_speed', 'occurred at index 0')",
     "output_type": "error",
     "traceback": [
      "\u001b[1;31m---------------------------------------------------------------------------\u001b[0m",
      "\u001b[1;31mTypeError\u001b[0m                                 Traceback (most recent call last)",
      "\u001b[1;32mC:\\WBG\\Anaconda\\envs\\test_gostNets\\lib\\site-packages\\pandas\\core\\indexes\\base.py\u001b[0m in \u001b[0;36mget_value\u001b[1;34m(self, series, key)\u001b[0m\n\u001b[0;32m   4735\u001b[0m             \u001b[1;32mtry\u001b[0m\u001b[1;33m:\u001b[0m\u001b[1;33m\u001b[0m\u001b[1;33m\u001b[0m\u001b[0m\n\u001b[1;32m-> 4736\u001b[1;33m                 \u001b[1;32mreturn\u001b[0m \u001b[0mlibindex\u001b[0m\u001b[1;33m.\u001b[0m\u001b[0mget_value_box\u001b[0m\u001b[1;33m(\u001b[0m\u001b[0ms\u001b[0m\u001b[1;33m,\u001b[0m \u001b[0mkey\u001b[0m\u001b[1;33m)\u001b[0m\u001b[1;33m\u001b[0m\u001b[1;33m\u001b[0m\u001b[0m\n\u001b[0m\u001b[0;32m   4737\u001b[0m             \u001b[1;32mexcept\u001b[0m \u001b[0mIndexError\u001b[0m\u001b[1;33m:\u001b[0m\u001b[1;33m\u001b[0m\u001b[1;33m\u001b[0m\u001b[0m\n",
      "\u001b[1;32mpandas/_libs/index.pyx\u001b[0m in \u001b[0;36mpandas._libs.index.get_value_box\u001b[1;34m()\u001b[0m\n",
      "\u001b[1;32mpandas/_libs/index.pyx\u001b[0m in \u001b[0;36mpandas._libs.index.get_value_at\u001b[1;34m()\u001b[0m\n",
      "\u001b[1;32mpandas/_libs/util.pxd\u001b[0m in \u001b[0;36mpandas._libs.util.get_value_at\u001b[1;34m()\u001b[0m\n",
      "\u001b[1;32mpandas/_libs/util.pxd\u001b[0m in \u001b[0;36mpandas._libs.util.validate_indexer\u001b[1;34m()\u001b[0m\n",
      "\u001b[1;31mTypeError\u001b[0m: 'str' object cannot be interpreted as an integer",
      "\nDuring handling of the above exception, another exception occurred:\n",
      "\u001b[1;31mKeyError\u001b[0m                                  Traceback (most recent call last)",
      "\u001b[1;32m<ipython-input-18-da3792201e4a>\u001b[0m in \u001b[0;36m<module>\u001b[1;34m\u001b[0m\n\u001b[1;32m----> 1\u001b[1;33m \u001b[0mkandy\u001b[0m\u001b[1;33m.\u001b[0m\u001b[0mapply_traffic_speeds_to_roads_raw\u001b[0m\u001b[1;33m(\u001b[0m\u001b[1;34mr\"C:\\Users\\wb557957\\Desktop\\LKA\\lka_data\\1233302-Asia-Colombo.csv\"\u001b[0m\u001b[1;33m)\u001b[0m\u001b[1;33m\u001b[0m\u001b[1;33m\u001b[0m\u001b[0m\n\u001b[0m",
      "\u001b[1;32m~\\Desktop\\GOSTnets-traffic\\GOSTnets\\load_traffic.py\u001b[0m in \u001b[0;36mapply_traffic_speeds_to_roads_raw\u001b[1;34m(self, *filenames)\u001b[0m\n\u001b[0;32m    105\u001b[0m         \u001b[1;31m# calculate the percentage of roads that have a mapbox speed\u001b[0m\u001b[1;33m\u001b[0m\u001b[1;33m\u001b[0m\u001b[1;33m\u001b[0m\u001b[0m\n\u001b[0;32m    106\u001b[0m         \u001b[1;31m# count the number of rows that have a Mapbox speed of 0 or more\u001b[0m\u001b[1;33m\u001b[0m\u001b[1;33m\u001b[0m\u001b[1;33m\u001b[0m\u001b[0m\n\u001b[1;32m--> 107\u001b[1;33m         \u001b[0mseriesObj\u001b[0m \u001b[1;33m=\u001b[0m \u001b[0mroads_raw_w_traffic\u001b[0m\u001b[1;33m.\u001b[0m\u001b[0mapply\u001b[0m\u001b[1;33m(\u001b[0m\u001b[1;32mlambda\u001b[0m \u001b[0mx\u001b[0m\u001b[1;33m:\u001b[0m \u001b[1;32mTrue\u001b[0m \u001b[1;32mif\u001b[0m \u001b[0mx\u001b[0m\u001b[1;33m[\u001b[0m\u001b[1;34m'mean_speed'\u001b[0m\u001b[1;33m]\u001b[0m \u001b[1;33m>\u001b[0m \u001b[1;36m0\u001b[0m \u001b[1;32melse\u001b[0m \u001b[1;32mFalse\u001b[0m\u001b[1;33m,\u001b[0m \u001b[0maxis\u001b[0m \u001b[1;33m=\u001b[0m \u001b[1;36m1\u001b[0m\u001b[1;33m)\u001b[0m\u001b[1;33m\u001b[0m\u001b[1;33m\u001b[0m\u001b[0m\n\u001b[0m\u001b[0;32m    108\u001b[0m         \u001b[0mnumOfRows\u001b[0m \u001b[1;33m=\u001b[0m \u001b[0mlen\u001b[0m\u001b[1;33m(\u001b[0m\u001b[0mseriesObj\u001b[0m\u001b[1;33m[\u001b[0m\u001b[0mseriesObj\u001b[0m \u001b[1;33m==\u001b[0m \u001b[1;32mTrue\u001b[0m\u001b[1;33m]\u001b[0m\u001b[1;33m.\u001b[0m\u001b[0mindex\u001b[0m\u001b[1;33m)\u001b[0m\u001b[1;33m\u001b[0m\u001b[1;33m\u001b[0m\u001b[0m\n\u001b[0;32m    109\u001b[0m         \u001b[0mprint\u001b[0m\u001b[1;33m(\u001b[0m\u001b[1;34m'{:.1%} of roads have a traffic speed'\u001b[0m\u001b[1;33m.\u001b[0m\u001b[0mformat\u001b[0m\u001b[1;33m(\u001b[0m\u001b[0mnumOfRows\u001b[0m\u001b[1;33m/\u001b[0m\u001b[0mlen\u001b[0m\u001b[1;33m(\u001b[0m\u001b[0mroads_raw_w_traffic\u001b[0m\u001b[1;33m)\u001b[0m\u001b[1;33m)\u001b[0m\u001b[1;33m)\u001b[0m\u001b[1;33m\u001b[0m\u001b[1;33m\u001b[0m\u001b[0m\n",
      "\u001b[1;32mC:\\WBG\\Anaconda\\envs\\test_gostNets\\lib\\site-packages\\pandas\\core\\frame.py\u001b[0m in \u001b[0;36mapply\u001b[1;34m(self, func, axis, broadcast, raw, reduce, result_type, args, **kwds)\u001b[0m\n\u001b[0;32m   6926\u001b[0m             \u001b[0mkwds\u001b[0m\u001b[1;33m=\u001b[0m\u001b[0mkwds\u001b[0m\u001b[1;33m,\u001b[0m\u001b[1;33m\u001b[0m\u001b[1;33m\u001b[0m\u001b[0m\n\u001b[0;32m   6927\u001b[0m         )\n\u001b[1;32m-> 6928\u001b[1;33m         \u001b[1;32mreturn\u001b[0m \u001b[0mop\u001b[0m\u001b[1;33m.\u001b[0m\u001b[0mget_result\u001b[0m\u001b[1;33m(\u001b[0m\u001b[1;33m)\u001b[0m\u001b[1;33m\u001b[0m\u001b[1;33m\u001b[0m\u001b[0m\n\u001b[0m\u001b[0;32m   6929\u001b[0m \u001b[1;33m\u001b[0m\u001b[0m\n\u001b[0;32m   6930\u001b[0m     \u001b[1;32mdef\u001b[0m \u001b[0mapplymap\u001b[0m\u001b[1;33m(\u001b[0m\u001b[0mself\u001b[0m\u001b[1;33m,\u001b[0m \u001b[0mfunc\u001b[0m\u001b[1;33m)\u001b[0m\u001b[1;33m:\u001b[0m\u001b[1;33m\u001b[0m\u001b[1;33m\u001b[0m\u001b[0m\n",
      "\u001b[1;32mC:\\WBG\\Anaconda\\envs\\test_gostNets\\lib\\site-packages\\pandas\\core\\apply.py\u001b[0m in \u001b[0;36mget_result\u001b[1;34m(self)\u001b[0m\n\u001b[0;32m    184\u001b[0m             \u001b[1;32mreturn\u001b[0m \u001b[0mself\u001b[0m\u001b[1;33m.\u001b[0m\u001b[0mapply_raw\u001b[0m\u001b[1;33m(\u001b[0m\u001b[1;33m)\u001b[0m\u001b[1;33m\u001b[0m\u001b[1;33m\u001b[0m\u001b[0m\n\u001b[0;32m    185\u001b[0m \u001b[1;33m\u001b[0m\u001b[0m\n\u001b[1;32m--> 186\u001b[1;33m         \u001b[1;32mreturn\u001b[0m \u001b[0mself\u001b[0m\u001b[1;33m.\u001b[0m\u001b[0mapply_standard\u001b[0m\u001b[1;33m(\u001b[0m\u001b[1;33m)\u001b[0m\u001b[1;33m\u001b[0m\u001b[1;33m\u001b[0m\u001b[0m\n\u001b[0m\u001b[0;32m    187\u001b[0m \u001b[1;33m\u001b[0m\u001b[0m\n\u001b[0;32m    188\u001b[0m     \u001b[1;32mdef\u001b[0m \u001b[0mapply_empty_result\u001b[0m\u001b[1;33m(\u001b[0m\u001b[0mself\u001b[0m\u001b[1;33m)\u001b[0m\u001b[1;33m:\u001b[0m\u001b[1;33m\u001b[0m\u001b[1;33m\u001b[0m\u001b[0m\n",
      "\u001b[1;32mC:\\WBG\\Anaconda\\envs\\test_gostNets\\lib\\site-packages\\pandas\\core\\apply.py\u001b[0m in \u001b[0;36mapply_standard\u001b[1;34m(self)\u001b[0m\n\u001b[0;32m    290\u001b[0m \u001b[1;33m\u001b[0m\u001b[0m\n\u001b[0;32m    291\u001b[0m         \u001b[1;31m# compute the result using the series generator\u001b[0m\u001b[1;33m\u001b[0m\u001b[1;33m\u001b[0m\u001b[1;33m\u001b[0m\u001b[0m\n\u001b[1;32m--> 292\u001b[1;33m         \u001b[0mself\u001b[0m\u001b[1;33m.\u001b[0m\u001b[0mapply_series_generator\u001b[0m\u001b[1;33m(\u001b[0m\u001b[1;33m)\u001b[0m\u001b[1;33m\u001b[0m\u001b[1;33m\u001b[0m\u001b[0m\n\u001b[0m\u001b[0;32m    293\u001b[0m \u001b[1;33m\u001b[0m\u001b[0m\n\u001b[0;32m    294\u001b[0m         \u001b[1;31m# wrap results\u001b[0m\u001b[1;33m\u001b[0m\u001b[1;33m\u001b[0m\u001b[1;33m\u001b[0m\u001b[0m\n",
      "\u001b[1;32mC:\\WBG\\Anaconda\\envs\\test_gostNets\\lib\\site-packages\\pandas\\core\\apply.py\u001b[0m in \u001b[0;36mapply_series_generator\u001b[1;34m(self)\u001b[0m\n\u001b[0;32m    319\u001b[0m             \u001b[1;32mtry\u001b[0m\u001b[1;33m:\u001b[0m\u001b[1;33m\u001b[0m\u001b[1;33m\u001b[0m\u001b[0m\n\u001b[0;32m    320\u001b[0m                 \u001b[1;32mfor\u001b[0m \u001b[0mi\u001b[0m\u001b[1;33m,\u001b[0m \u001b[0mv\u001b[0m \u001b[1;32min\u001b[0m \u001b[0menumerate\u001b[0m\u001b[1;33m(\u001b[0m\u001b[0mseries_gen\u001b[0m\u001b[1;33m)\u001b[0m\u001b[1;33m:\u001b[0m\u001b[1;33m\u001b[0m\u001b[1;33m\u001b[0m\u001b[0m\n\u001b[1;32m--> 321\u001b[1;33m                     \u001b[0mresults\u001b[0m\u001b[1;33m[\u001b[0m\u001b[0mi\u001b[0m\u001b[1;33m]\u001b[0m \u001b[1;33m=\u001b[0m \u001b[0mself\u001b[0m\u001b[1;33m.\u001b[0m\u001b[0mf\u001b[0m\u001b[1;33m(\u001b[0m\u001b[0mv\u001b[0m\u001b[1;33m)\u001b[0m\u001b[1;33m\u001b[0m\u001b[1;33m\u001b[0m\u001b[0m\n\u001b[0m\u001b[0;32m    322\u001b[0m                     \u001b[0mkeys\u001b[0m\u001b[1;33m.\u001b[0m\u001b[0mappend\u001b[0m\u001b[1;33m(\u001b[0m\u001b[0mv\u001b[0m\u001b[1;33m.\u001b[0m\u001b[0mname\u001b[0m\u001b[1;33m)\u001b[0m\u001b[1;33m\u001b[0m\u001b[1;33m\u001b[0m\u001b[0m\n\u001b[0;32m    323\u001b[0m             \u001b[1;32mexcept\u001b[0m \u001b[0mException\u001b[0m \u001b[1;32mas\u001b[0m \u001b[0me\u001b[0m\u001b[1;33m:\u001b[0m\u001b[1;33m\u001b[0m\u001b[1;33m\u001b[0m\u001b[0m\n",
      "\u001b[1;32m~\\Desktop\\GOSTnets-traffic\\GOSTnets\\load_traffic.py\u001b[0m in \u001b[0;36m<lambda>\u001b[1;34m(x)\u001b[0m\n\u001b[0;32m    105\u001b[0m         \u001b[1;31m# calculate the percentage of roads that have a mapbox speed\u001b[0m\u001b[1;33m\u001b[0m\u001b[1;33m\u001b[0m\u001b[1;33m\u001b[0m\u001b[0m\n\u001b[0;32m    106\u001b[0m         \u001b[1;31m# count the number of rows that have a Mapbox speed of 0 or more\u001b[0m\u001b[1;33m\u001b[0m\u001b[1;33m\u001b[0m\u001b[1;33m\u001b[0m\u001b[0m\n\u001b[1;32m--> 107\u001b[1;33m         \u001b[0mseriesObj\u001b[0m \u001b[1;33m=\u001b[0m \u001b[0mroads_raw_w_traffic\u001b[0m\u001b[1;33m.\u001b[0m\u001b[0mapply\u001b[0m\u001b[1;33m(\u001b[0m\u001b[1;32mlambda\u001b[0m \u001b[0mx\u001b[0m\u001b[1;33m:\u001b[0m \u001b[1;32mTrue\u001b[0m \u001b[1;32mif\u001b[0m \u001b[0mx\u001b[0m\u001b[1;33m[\u001b[0m\u001b[1;34m'mean_speed'\u001b[0m\u001b[1;33m]\u001b[0m \u001b[1;33m>\u001b[0m \u001b[1;36m0\u001b[0m \u001b[1;32melse\u001b[0m \u001b[1;32mFalse\u001b[0m\u001b[1;33m,\u001b[0m \u001b[0maxis\u001b[0m \u001b[1;33m=\u001b[0m \u001b[1;36m1\u001b[0m\u001b[1;33m)\u001b[0m\u001b[1;33m\u001b[0m\u001b[1;33m\u001b[0m\u001b[0m\n\u001b[0m\u001b[0;32m    108\u001b[0m         \u001b[0mnumOfRows\u001b[0m \u001b[1;33m=\u001b[0m \u001b[0mlen\u001b[0m\u001b[1;33m(\u001b[0m\u001b[0mseriesObj\u001b[0m\u001b[1;33m[\u001b[0m\u001b[0mseriesObj\u001b[0m \u001b[1;33m==\u001b[0m \u001b[1;32mTrue\u001b[0m\u001b[1;33m]\u001b[0m\u001b[1;33m.\u001b[0m\u001b[0mindex\u001b[0m\u001b[1;33m)\u001b[0m\u001b[1;33m\u001b[0m\u001b[1;33m\u001b[0m\u001b[0m\n\u001b[0;32m    109\u001b[0m         \u001b[0mprint\u001b[0m\u001b[1;33m(\u001b[0m\u001b[1;34m'{:.1%} of roads have a traffic speed'\u001b[0m\u001b[1;33m.\u001b[0m\u001b[0mformat\u001b[0m\u001b[1;33m(\u001b[0m\u001b[0mnumOfRows\u001b[0m\u001b[1;33m/\u001b[0m\u001b[0mlen\u001b[0m\u001b[1;33m(\u001b[0m\u001b[0mroads_raw_w_traffic\u001b[0m\u001b[1;33m)\u001b[0m\u001b[1;33m)\u001b[0m\u001b[1;33m)\u001b[0m\u001b[1;33m\u001b[0m\u001b[1;33m\u001b[0m\u001b[0m\n",
      "\u001b[1;32mC:\\WBG\\Anaconda\\envs\\test_gostNets\\lib\\site-packages\\pandas\\core\\series.py\u001b[0m in \u001b[0;36m__getitem__\u001b[1;34m(self, key)\u001b[0m\n\u001b[0;32m   1069\u001b[0m         \u001b[0mkey\u001b[0m \u001b[1;33m=\u001b[0m \u001b[0mcom\u001b[0m\u001b[1;33m.\u001b[0m\u001b[0mapply_if_callable\u001b[0m\u001b[1;33m(\u001b[0m\u001b[0mkey\u001b[0m\u001b[1;33m,\u001b[0m \u001b[0mself\u001b[0m\u001b[1;33m)\u001b[0m\u001b[1;33m\u001b[0m\u001b[1;33m\u001b[0m\u001b[0m\n\u001b[0;32m   1070\u001b[0m         \u001b[1;32mtry\u001b[0m\u001b[1;33m:\u001b[0m\u001b[1;33m\u001b[0m\u001b[1;33m\u001b[0m\u001b[0m\n\u001b[1;32m-> 1071\u001b[1;33m             \u001b[0mresult\u001b[0m \u001b[1;33m=\u001b[0m \u001b[0mself\u001b[0m\u001b[1;33m.\u001b[0m\u001b[0mindex\u001b[0m\u001b[1;33m.\u001b[0m\u001b[0mget_value\u001b[0m\u001b[1;33m(\u001b[0m\u001b[0mself\u001b[0m\u001b[1;33m,\u001b[0m \u001b[0mkey\u001b[0m\u001b[1;33m)\u001b[0m\u001b[1;33m\u001b[0m\u001b[1;33m\u001b[0m\u001b[0m\n\u001b[0m\u001b[0;32m   1072\u001b[0m \u001b[1;33m\u001b[0m\u001b[0m\n\u001b[0;32m   1073\u001b[0m             \u001b[1;32mif\u001b[0m \u001b[1;32mnot\u001b[0m \u001b[0mis_scalar\u001b[0m\u001b[1;33m(\u001b[0m\u001b[0mresult\u001b[0m\u001b[1;33m)\u001b[0m\u001b[1;33m:\u001b[0m\u001b[1;33m\u001b[0m\u001b[1;33m\u001b[0m\u001b[0m\n",
      "\u001b[1;32mC:\\WBG\\Anaconda\\envs\\test_gostNets\\lib\\site-packages\\pandas\\core\\indexes\\base.py\u001b[0m in \u001b[0;36mget_value\u001b[1;34m(self, series, key)\u001b[0m\n\u001b[0;32m   4742\u001b[0m                     \u001b[1;32mraise\u001b[0m \u001b[0mInvalidIndexError\u001b[0m\u001b[1;33m(\u001b[0m\u001b[0mkey\u001b[0m\u001b[1;33m)\u001b[0m\u001b[1;33m\u001b[0m\u001b[1;33m\u001b[0m\u001b[0m\n\u001b[0;32m   4743\u001b[0m                 \u001b[1;32melse\u001b[0m\u001b[1;33m:\u001b[0m\u001b[1;33m\u001b[0m\u001b[1;33m\u001b[0m\u001b[0m\n\u001b[1;32m-> 4744\u001b[1;33m                     \u001b[1;32mraise\u001b[0m \u001b[0me1\u001b[0m\u001b[1;33m\u001b[0m\u001b[1;33m\u001b[0m\u001b[0m\n\u001b[0m\u001b[0;32m   4745\u001b[0m             \u001b[1;32mexcept\u001b[0m \u001b[0mException\u001b[0m\u001b[1;33m:\u001b[0m  \u001b[1;31m# pragma: no cover\u001b[0m\u001b[1;33m\u001b[0m\u001b[1;33m\u001b[0m\u001b[0m\n\u001b[0;32m   4746\u001b[0m                 \u001b[1;32mraise\u001b[0m \u001b[0me1\u001b[0m\u001b[1;33m\u001b[0m\u001b[1;33m\u001b[0m\u001b[0m\n",
      "\u001b[1;32mC:\\WBG\\Anaconda\\envs\\test_gostNets\\lib\\site-packages\\pandas\\core\\indexes\\base.py\u001b[0m in \u001b[0;36mget_value\u001b[1;34m(self, series, key)\u001b[0m\n\u001b[0;32m   4728\u001b[0m         \u001b[0mk\u001b[0m \u001b[1;33m=\u001b[0m \u001b[0mself\u001b[0m\u001b[1;33m.\u001b[0m\u001b[0m_convert_scalar_indexer\u001b[0m\u001b[1;33m(\u001b[0m\u001b[0mk\u001b[0m\u001b[1;33m,\u001b[0m \u001b[0mkind\u001b[0m\u001b[1;33m=\u001b[0m\u001b[1;34m\"getitem\"\u001b[0m\u001b[1;33m)\u001b[0m\u001b[1;33m\u001b[0m\u001b[1;33m\u001b[0m\u001b[0m\n\u001b[0;32m   4729\u001b[0m         \u001b[1;32mtry\u001b[0m\u001b[1;33m:\u001b[0m\u001b[1;33m\u001b[0m\u001b[1;33m\u001b[0m\u001b[0m\n\u001b[1;32m-> 4730\u001b[1;33m             \u001b[1;32mreturn\u001b[0m \u001b[0mself\u001b[0m\u001b[1;33m.\u001b[0m\u001b[0m_engine\u001b[0m\u001b[1;33m.\u001b[0m\u001b[0mget_value\u001b[0m\u001b[1;33m(\u001b[0m\u001b[0ms\u001b[0m\u001b[1;33m,\u001b[0m \u001b[0mk\u001b[0m\u001b[1;33m,\u001b[0m \u001b[0mtz\u001b[0m\u001b[1;33m=\u001b[0m\u001b[0mgetattr\u001b[0m\u001b[1;33m(\u001b[0m\u001b[0mseries\u001b[0m\u001b[1;33m.\u001b[0m\u001b[0mdtype\u001b[0m\u001b[1;33m,\u001b[0m \u001b[1;34m\"tz\"\u001b[0m\u001b[1;33m,\u001b[0m \u001b[1;32mNone\u001b[0m\u001b[1;33m)\u001b[0m\u001b[1;33m)\u001b[0m\u001b[1;33m\u001b[0m\u001b[1;33m\u001b[0m\u001b[0m\n\u001b[0m\u001b[0;32m   4731\u001b[0m         \u001b[1;32mexcept\u001b[0m \u001b[0mKeyError\u001b[0m \u001b[1;32mas\u001b[0m \u001b[0me1\u001b[0m\u001b[1;33m:\u001b[0m\u001b[1;33m\u001b[0m\u001b[1;33m\u001b[0m\u001b[0m\n\u001b[0;32m   4732\u001b[0m             \u001b[1;32mif\u001b[0m \u001b[0mlen\u001b[0m\u001b[1;33m(\u001b[0m\u001b[0mself\u001b[0m\u001b[1;33m)\u001b[0m \u001b[1;33m>\u001b[0m \u001b[1;36m0\u001b[0m \u001b[1;32mand\u001b[0m \u001b[1;33m(\u001b[0m\u001b[0mself\u001b[0m\u001b[1;33m.\u001b[0m\u001b[0mholds_integer\u001b[0m\u001b[1;33m(\u001b[0m\u001b[1;33m)\u001b[0m \u001b[1;32mor\u001b[0m \u001b[0mself\u001b[0m\u001b[1;33m.\u001b[0m\u001b[0mis_boolean\u001b[0m\u001b[1;33m(\u001b[0m\u001b[1;33m)\u001b[0m\u001b[1;33m)\u001b[0m\u001b[1;33m:\u001b[0m\u001b[1;33m\u001b[0m\u001b[1;33m\u001b[0m\u001b[0m\n",
      "\u001b[1;32mpandas/_libs/index.pyx\u001b[0m in \u001b[0;36mpandas._libs.index.IndexEngine.get_value\u001b[1;34m()\u001b[0m\n",
      "\u001b[1;32mpandas/_libs/index.pyx\u001b[0m in \u001b[0;36mpandas._libs.index.IndexEngine.get_value\u001b[1;34m()\u001b[0m\n",
      "\u001b[1;32mpandas/_libs/index.pyx\u001b[0m in \u001b[0;36mpandas._libs.index.IndexEngine.get_loc\u001b[1;34m()\u001b[0m\n",
      "\u001b[1;32mpandas/_libs/hashtable_class_helper.pxi\u001b[0m in \u001b[0;36mpandas._libs.hashtable.PyObjectHashTable.get_item\u001b[1;34m()\u001b[0m\n",
      "\u001b[1;32mpandas/_libs/hashtable_class_helper.pxi\u001b[0m in \u001b[0;36mpandas._libs.hashtable.PyObjectHashTable.get_item\u001b[1;34m()\u001b[0m\n",
      "\u001b[1;31mKeyError\u001b[0m: ('mean_speed', 'occurred at index 0')"
     ]
    }
   ],
   "source": [
    "kandy.apply_traffic_speeds_to_roads_raw(r\"C:\\Users\\wb557957\\Desktop\\LKA\\lka_data\\1233302-Asia-Colombo.csv\")"
   ]
  },
  {
   "cell_type": "code",
   "execution_count": null,
   "metadata": {},
   "outputs": [],
   "source": [
    "kandy.generateRoadsGDF()"
   ]
  }
 ],
 "metadata": {
  "kernelspec": {
   "display_name": "Python (test_gostNets)",
   "language": "python",
   "name": "test_gostnets"
  },
  "language_info": {
   "codemirror_mode": {
    "name": "ipython",
    "version": 3
   },
   "file_extension": ".py",
   "mimetype": "text/x-python",
   "name": "python",
   "nbconvert_exporter": "python",
   "pygments_lexer": "ipython3",
   "version": "3.6.9"
  }
 },
 "nbformat": 4,
 "nbformat_minor": 4
}
